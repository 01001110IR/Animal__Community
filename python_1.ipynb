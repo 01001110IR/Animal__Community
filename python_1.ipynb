{
  "nbformat": 4,
  "nbformat_minor": 0,
  "metadata": {
    "colab": {
      "private_outputs": true,
      "provenance": [],
      "authorship_tag": "ABX9TyN66Bp/9Tzsm/EFOeYcHTPL",
      "include_colab_link": true
    },
    "kernelspec": {
      "name": "python3",
      "display_name": "Python 3"
    },
    "language_info": {
      "name": "python"
    }
  },
  "cells": [
    {
      "cell_type": "markdown",
      "metadata": {
        "id": "view-in-github",
        "colab_type": "text"
      },
      "source": [
        "<a href=\"https://colab.research.google.com/github/01001110IR/Animal__Community/blob/main/python_1.ipynb\" target=\"_parent\"><img src=\"https://colab.research.google.com/assets/colab-badge.svg\" alt=\"Open In Colab\"/></a>"
      ]
    },
    {
      "cell_type": "markdown",
      "source": [
        "#** שיעור ראשון**\n",
        "\n",
        "---\n",
        "\n",
        "\n",
        "\n",
        "---\n",
        "\n",
        "\n"
      ],
      "metadata": {
        "id": "tVSdqoLIHbIY"
      }
    },
    {
      "cell_type": "markdown",
      "source": [
        "# **פקודות טרמינל **\n",
        "\n",
        " json-server --watch db.json  \n",
        "\n",
        "---\n",
        "\n",
        "\n"
      ],
      "metadata": {
        "id": "wJ9cCvdVfUEF"
      }
    },
    {
      "cell_type": "markdown",
      "source": [
        "# **python**"
      ],
      "metadata": {
        "id": "lnKo_yF2QvK9"
      }
    },
    {
      "cell_type": "code",
      "execution_count": null,
      "metadata": {
        "id": "ZjcNrWfWy2BQ"
      },
      "outputs": [],
      "source": [
        "pass # דלג # אומר לפייתון דלג על התקלה"
      ]
    },
    {
      "cell_type": "code",
      "source": [
        "print(\"lesson1\"):"
      ],
      "metadata": {
        "id": "9pILIF026WAD"
      },
      "execution_count": null,
      "outputs": []
    },
    {
      "cell_type": "markdown",
      "source": [
        "\n",
        "\n",
        "---\n",
        "\n",
        "\n",
        "מציאת האות הראשונה בסטרינג"
      ],
      "metadata": {
        "id": "375YIDP9Lu9u"
      }
    },
    {
      "cell_type": "code",
      "source": [
        "txt = \"Hello World\"\n",
        "x = txt[0]\n",
        "print(x)"
      ],
      "metadata": {
        "id": "eokYsmrTK7tj"
      },
      "execution_count": null,
      "outputs": []
    },
    {
      "cell_type": "markdown",
      "source": [
        "\n",
        "\n",
        "---\n",
        "\n",
        "\n",
        "`def`\n",
        "\n",
        "\n",
        "\n",
        " יצירת פונקצייה בפייתון\n",
        "\n",
        " במקום בלוק משתמשתים בנקודותיים (:)\n",
        "\n",
        " כל השורות של הפונקציה חייבות להיות מוזחות\n",
        " (צעד אחד ימינה מהפונקציה )\n",
        "\n",
        "חייבים לסגור פונקציה עם השם של הפונקציה\n",
        "\n",
        "\n"
      ],
      "metadata": {
        "id": "ZpiiSavOJVAM"
      }
    },
    {
      "cell_type": "code",
      "source": [
        "def show():\n",
        "  print(\"lesson 1\")\n",
        "show()"
      ],
      "metadata": {
        "id": "vXqI6QdDKT1i"
      },
      "execution_count": null,
      "outputs": []
    },
    {
      "cell_type": "markdown",
      "source": [
        "\n",
        "\n",
        "---\n",
        "\n",
        "\n",
        "# **תנאים בפייתון **\n",
        "\n",
        "`if`---`elif`---`else`---`and` -------- `or` ------\n",
        "\n",
        "שימוש `!= `\n",
        "מסמל לא שווה\n",
        "\n",
        "\n",
        "\n"
      ],
      "metadata": {
        "id": "4HHl2HBXL7Uw"
      }
    },
    {
      "cell_type": "code",
      "source": [
        "#  the correct comparison operator to check if 5 is not equal to 10.\n",
        "\n",
        "if 5 !=10:\n",
        " print(\"5 and 10 is not equal\")\n",
        "\n",
        "a = 33\n",
        "b = 33\n",
        "c = 0\n",
        "d = 33\n",
        "if b > a:\n",
        "  print(\"b is greater than a\")\n",
        "elif a == b:\n",
        "  print(b)\n",
        "\n",
        "if a == b and c == d: print(\"Hello\")\n",
        "if a == b or c == d: print(\"Hello\")"
      ],
      "metadata": {
        "id": "3uaRpRMYgR47"
      },
      "execution_count": null,
      "outputs": []
    },
    {
      "cell_type": "markdown",
      "source": [
        "\n",
        "\n",
        "---\n",
        "\n",
        "\n",
        "\n",
        "---\n",
        "\n"
      ],
      "metadata": {
        "id": "QNf32cQxC3gN"
      }
    },
    {
      "cell_type": "markdown",
      "source": [
        "`while ` -----    `break` -----`continue`----`else`\n",
        "\n",
        "\n",
        "\n",
        "\n",
        "\n",
        "\n",
        "\n",
        "\n"
      ],
      "metadata": {
        "id": "6nRMwN2gC5Pr"
      }
    },
    {
      "cell_type": "code",
      "source": [
        "i = 1\n",
        "while i < 6 :\n",
        "  print(i)\n",
        "i += 1         # מדפיס מספר בלופ אינסופי"
      ],
      "metadata": {
        "id": "zcVNg4oXDKey"
      },
      "execution_count": null,
      "outputs": []
    },
    {
      "cell_type": "code",
      "source": [
        "\n",
        "i = 3\n",
        "while i < 6:\n",
        "  if i == 3:\n",
        "                 # עצור את הלופ אם המשתנה שווה ל 3\n",
        "   break\n",
        "i += 1"
      ],
      "metadata": {
        "id": "XZIwtREmEV-l"
      },
      "execution_count": null,
      "outputs": []
    },
    {
      "cell_type": "code",
      "source": [
        "i = 0\n",
        "while i < 6:\n",
        "  i += 1\n",
        "  if i == 3:   # כשתגיע ל3 תוציא אותו מהלופ\n",
        "    continue\n",
        "  print(i)"
      ],
      "metadata": {
        "id": "Yky1sBP2ONKg"
      },
      "execution_count": null,
      "outputs": []
    },
    {
      "cell_type": "code",
      "source": [
        "\n",
        "i = 1\n",
        "while i < 6:\n",
        "  print(i)\n",
        "  i += 1\n",
        "else:\n",
        "\n",
        "  print(\"i is no longer less than 6\")"
      ],
      "metadata": {
        "id": "gfasl79IPTEr"
      },
      "execution_count": null,
      "outputs": []
    },
    {
      "cell_type": "code",
      "source": [
        "def main():\n",
        "    numbers = []  # רשימה לאחסון המספרים\n",
        "    while True:\n",
        "        try:\n",
        "            user_input = input(\"הזן מספר או הקש 'x' כדי לחשב סכום: \")\n",
        "            if user_input.lower() == 'x':\n",
        "                break\n",
        "            number = float(user_input)\n",
        "            numbers.append(number)\n",
        "        except ValueError:\n",
        "            print(\"קלט לא תקין. אנא הכנס מספר תקין או 'x' לסיום.\")\n",
        "\n",
        "    if numbers:\n",
        "        sum_of_numbers = sum(numbers)\n",
        "        print(\"סכום המספרים הוא:\", sum_of_numbers)\n",
        "    else:\n",
        "        print(\"לא הוזנו מספרים.\")\n",
        "\n",
        "if __name__ == \"__main__\":\n",
        "    main()\n"
      ],
      "metadata": {
        "id": "ZdYnJW7_y5jm"
      },
      "execution_count": null,
      "outputs": []
    },
    {
      "cell_type": "markdown",
      "source": [
        "\n",
        "\n",
        "---\n",
        "\n",
        "\n",
        "\n",
        "---\n",
        "\n"
      ],
      "metadata": {
        "id": "sqFcfpUFP0V3"
      }
    },
    {
      "cell_type": "markdown",
      "source": [
        "\n",
        "\n",
        "`range()`\n",
        "\n",
        "מגדיר טווח --מצוין למערכים --- בדוגמא זו:\n",
        "אומר למחשב תגיע עד הטווח המבוקש\n",
        "\n",
        " חשוב לשים לב לקריאה ` in`\n",
        "\n"
      ],
      "metadata": {
        "id": "dElrU2LpRBbg"
      }
    },
    {
      "cell_type": "code",
      "source": [
        "for x in range(6):\n",
        "  print (x)"
      ],
      "metadata": {
        "id": "8zuedQQoRXb0"
      },
      "execution_count": null,
      "outputs": []
    },
    {
      "cell_type": "code",
      "source": [
        "for y in range(10,21):\n",
        "    print(y)\n",
        "\n",
        "for a in range(20,9,-1):\n",
        "    print(a)\n",
        "\n",
        "for s in range(10):\n",
        "  s =  \"nir\"\n",
        "  print(s)"
      ],
      "metadata": {
        "id": "b52Oqu5hUpCh"
      },
      "execution_count": null,
      "outputs": []
    },
    {
      "cell_type": "markdown",
      "source": [
        "\n",
        "\n",
        "\n",
        "---\n",
        "\n",
        "\n",
        "---\n",
        "\n",
        "\n",
        "`input` קלט מהמשתמש\n",
        "ושימוש ב\n",
        "`f`\n",
        "\n",
        "\n",
        "`int --- float--- str`......\n",
        "\n",
        "\n",
        "\n"
      ],
      "metadata": {
        "id": "IpVC-d1FZMLg"
      }
    },
    {
      "cell_type": "code",
      "source": [
        "inp = int(input(\"choose num: \"))\n",
        "inp2 = int(input(\"choose sec num: \"))\n",
        "\n",
        "#if inp>inp2 :           # מדפיס את הגדול\n",
        "#  print(inp)\n",
        "\n",
        "#else:\n",
        "#  print(inp2)           # מדפיס את הקטן\n",
        "\n",
        "#for i in range(inp,0,-1):\n",
        " #   print(i)                    # הטווח ממספר הנותן המשתמש ל 0\n",
        "for t in range(0,22,2):\n",
        "          print(t)                # מדפיס טווח בין 0 ל 22 בקפיצות של 2 (הדפסת זוגיים )\n"
      ],
      "metadata": {
        "id": "TIJVoIzZZgzR"
      },
      "execution_count": null,
      "outputs": []
    },
    {
      "cell_type": "markdown",
      "source": [
        "  using :` f '`"
      ],
      "metadata": {
        "id": "M7rBXSz9XK9o"
      }
    },
    {
      "cell_type": "code",
      "source": [
        "inp = int(input(\"choose num: \"))\n",
        "print(f\"the number is : {int(inp)*2}\")"
      ],
      "metadata": {
        "id": "z5m-aNEOTe6a"
      },
      "execution_count": null,
      "outputs": []
    },
    {
      "cell_type": "markdown",
      "source": [
        "# **import**\n",
        "\n",
        "כשרוצים להוסיף יכולת מסויימת כמו חבילה  לתוכנית פייתון\n",
        "משתמשים בפקודה אימפורט\n",
        "2 סוגי חבילות\n",
        " מובנות\n",
        "ולא מובנים (מהרשת -גיטאהב )\n",
        "\n",
        "`**entry point **`\n",
        "\n",
        "בתוכנית מסודרת התוכנית מתחילה ומסתיימת ב(`entry point `)"
      ],
      "metadata": {
        "id": "KnN9xa-Jjwoy"
      }
    },
    {
      "cell_type": "code",
      "source": [
        "import datetime\n",
        "user = input (str(\"enter your name\"))\n",
        "def display_current_time():\n",
        "    current_time = datetime.datetime.now()\n",
        "    print(\"the time is : \", current_time)\n",
        "    print('hi',user)\n",
        "\n",
        "\n",
        "if __name__ == \"__main__\":\n",
        "    display_current_time()\n",
        "\n"
      ],
      "metadata": {
        "id": "X88PA450q05v"
      },
      "execution_count": null,
      "outputs": []
    },
    {
      "cell_type": "markdown",
      "source": [
        "**סוגי רשימות **\n",
        "\n",
        "`list` - [ ]\n",
        "\n",
        "`Tuple `- { } read only !! יוצרים פעם אחת\n",
        "\n",
        " ` Set` - { } לא ניתן לשנות אותו\n",
        "\n",
        "  `Dictionary`- `dict `{ }   ״key ״ : ״value״.  \n",
        "  כמו ג׳ייסון   "
      ],
      "metadata": {
        "id": "6hcT4QE1g2ig"
      }
    },
    {
      "cell_type": "markdown",
      "source": [
        "\n",
        "\n",
        "---\n",
        "פעולת החלפת מחרוזת בליסט\n",
        "\n",
        "`append`---`insert`---`remove`---`negative` [ - ]\n",
        "\n",
        "`range`---`len`\n",
        "\n",
        "\n",
        "\n"
      ],
      "metadata": {
        "id": "SdDGl3sHirYO"
      }
    },
    {
      "cell_type": "code",
      "source": [
        "fruits = [\"apple\", \"banana\", \"cherry\"]\n",
        "fruits[0]= \"kiwi\"\n",
        "fruits.append(\"orange\")\n",
        "fruits.insert(1,\"lemon\")\n",
        "fruits.remove(\"banana\")\n",
        "\n",
        "print(fruits)\n",
        "print(fruits[-3])\n",
        "print(fruits[2:5]) # range\n",
        "print(len(fruits)) #  len  אורך המערך\n"
      ],
      "metadata": {
        "id": "P8s6w_DbjArA"
      },
      "execution_count": null,
      "outputs": []
    },
    {
      "cell_type": "markdown",
      "source": [
        "\n",
        "\n",
        "---\n",
        "\n",
        "\n",
        "\n",
        "---\n",
        "\n"
      ],
      "metadata": {
        "id": "eRlWpfbb0i3h"
      }
    },
    {
      "cell_type": "markdown",
      "source": [
        "**python sets **\n",
        "\n",
        "`in`---`add`---`update`---`remove`---`discard`\n",
        "\n",
        "\n",
        "\n",
        "\n",
        "\n",
        "\n",
        "\n"
      ],
      "metadata": {
        "id": "xQofUH-m0mKu"
      }
    },
    {
      "cell_type": "code",
      "source": [
        "fruits = {\"apple\", \"banana\", \"cherry\"} # set list { }\n",
        "\n",
        "fruits.add(\"orange\")\n",
        "print(fruits)\n",
        "\n",
        "if \"apple\" in fruits:\n",
        "  print(\"Yes, apple is a fruit!\")\n",
        "\n",
        "  more_fruits = [\"orange\", \"mango\", \"grapes\"]\n",
        "  fruits.update(more_fruits)\n",
        "  print(fruits)\n",
        "  fruits.remove(\"banana\")\n",
        "  fruits.discard(\"mango\")\n",
        "  print(fruits)\n",
        "\n",
        ""
      ],
      "metadata": {
        "id": "iQIWYYf-0zuJ"
      },
      "execution_count": null,
      "outputs": []
    },
    {
      "cell_type": "markdown",
      "source": [
        "\n",
        "\n",
        "\n",
        "---\n",
        "\n",
        "\n",
        "\n",
        "---\n",
        "\n",
        "\n",
        "> ** python dictionaries { }  **\n",
        "\n",
        "\n",
        "\n",
        "   `get` `pop` `clear`\n",
        "*    changing value of \"year\"  brackets [ ]\n",
        "\n",
        "*   adding new \"key\" \"value\" pair  brackets [ ]\n",
        "*  removing wite` pop `methods\n",
        "\n",
        "*   clear the list with `clear `\n",
        "*   List item\n",
        "\n",
        "\n",
        "\n",
        "\n",
        "\n",
        "\n",
        "\n",
        "\n",
        "\n"
      ],
      "metadata": {
        "id": "d__hrBuHtEEm"
      }
    },
    {
      "cell_type": "code",
      "source": [
        "car =\t{\n",
        "  \"brand\": \"Ford\",\n",
        "  \"model\": \"Mustang\",\n",
        "  \"year\": 1964\n",
        "}\n",
        "print(car.get(\"model\"))\n",
        "\n",
        "car[\"year\"] = 2020\n",
        "print(car[\"year\"])\n",
        "\n",
        "car[\"color\"]=\"red\"\n",
        "car.pop(\"model\")\n",
        "print(car)\n",
        "\n",
        "car.clear()\n",
        "print(car)\n",
        "\n"
      ],
      "metadata": {
        "id": "wBbYaCWT41bb"
      },
      "execution_count": null,
      "outputs": []
    },
    {
      "cell_type": "markdown",
      "source": [
        "\n",
        "\n",
        "---\n",
        "\n"
      ],
      "metadata": {
        "id": "QSDYFQcotElI"
      }
    },
    {
      "cell_type": "markdown",
      "source": [
        "\n",
        "\n",
        "---\n",
        "`global`\n",
        "\n",
        "משתנים שנוצרים מחוץ לפונקציה (כמו בכל הדוגמאות לעיל) ידועים כמשתנים גלובליים.\n",
        "\n",
        "משתנים גלובליים יכולים לשמש כולם, הן בתוך פונקציות והן מחוצה לה.\n",
        "\n",
        "\n",
        "בדוגמה זו, המשתנה **global_variable **\n",
        "\n",
        "מוגדר בסביבה הגלובלית של הקובץ.\n",
        "\n",
        " פונקציה **update_global()**\n",
        "\n",
        "  משתמשת במילה השמורה \"`global`\"\n",
        "  \n",
        "   כדי לעדכן את הערך של המשתנה הגלובלי\n",
        "   \n",
        "   **global_variable**"
      ],
      "metadata": {
        "id": "kCQ3LJhGQWgc"
      }
    },
    {
      "cell_type": "code",
      "source": [
        "global_variable = 10\n",
        "\n",
        "def update_global():\n",
        "    global global_variable\n",
        "    global_variable += 5\n",
        "\n",
        "def main():\n",
        "    print(\"Global variable before update:\", global_variable)\n",
        "    update_global()\n",
        "    print(\"Global variable after update:\", global_variable)\n",
        "\n",
        "if __name__ == \"__main__\":\n",
        "    main()\n"
      ],
      "metadata": {
        "id": "9bflwYpZCVKe"
      },
      "execution_count": null,
      "outputs": []
    },
    {
      "cell_type": "markdown",
      "source": [
        "\n",
        "\n",
        "---\n",
        "\n"
      ],
      "metadata": {
        "id": "FHOJkw_YVPwC"
      }
    },
    {
      "cell_type": "code",
      "source": [
        "import datetime # ייבוא פונקציה מהשרת\n",
        "# import function2  # ייבוא פונקציה מדף אחר\n",
        "pass\n",
        "from function2 import show # קריאת ממוקדת לפונקציה ספציפית\n",
        "\n",
        "\n",
        "#user = input (str(\"enter your name\"))\n",
        "\n",
        "def display_current_time():\n",
        "    current_time = datetime.datetime.now()\n",
        "    print(\"the time is : \", current_time)\n",
        "    print('hi',user)\n",
        "\n",
        "\n",
        "if __name__ == \"__main__\":\n",
        "    display_current_time()"
      ],
      "metadata": {
        "id": "HxbFPNaCVSwN"
      },
      "execution_count": null,
      "outputs": []
    },
    {
      "cell_type": "code",
      "source": [
        "def show():                             # פונקציה שנייה מדף אחר שייכת לפונקציה למעלה\n",
        "    a = 33\n",
        "    b = 33\n",
        "    if b > a:\n",
        "        print(\"b is greater than a\")\n",
        "    elif a == b:\n",
        "        print(b)\n",
        "    for y in range(10, 21):\n",
        "        print(y)\n",
        "\n",
        "    for a in range(20, 9, -1):\n",
        "        print(a)\n",
        "\n",
        "    for s in range(10):\n",
        "        s = \"nir\"\n",
        "        print(s)\n",
        "\n",
        "if __name__ == \"__main__\":\n",
        "    show()\n"
      ],
      "metadata": {
        "id": "NdD9QjBAVUkG"
      },
      "execution_count": null,
      "outputs": []
    },
    {
      "cell_type": "markdown",
      "source": [
        "\n",
        "\n",
        "---\n",
        "\n"
      ],
      "metadata": {
        "id": "UiJfyRQVcZew"
      }
    },
    {
      "cell_type": "markdown",
      "source": [
        "\n",
        "\n",
        "---\n",
        "\n"
      ],
      "metadata": {
        "id": "n9OEiiECYpSH"
      }
    },
    {
      "cell_type": "markdown",
      "source": [
        "# `lambda`\n",
        "\n"
      ],
      "metadata": {
        "id": "RMk_xWXDWF5t"
      }
    },
    {
      "cell_type": "code",
      "source": [
        "lambda #function that takes one parameter (a) and returns it.\n",
        "x = lambda a:a\n"
      ],
      "metadata": {
        "id": "nzx0Fp8BcbCO"
      },
      "execution_count": null,
      "outputs": []
    },
    {
      "cell_type": "markdown",
      "source": [
        "\n",
        "\n",
        "---\n",
        "\n",
        "\n",
        "\n",
        "---\n",
        "\n",
        "### **`class`------`__init__`**\n",
        "\n"
      ],
      "metadata": {
        "id": "pc1_hzUVWgCY"
      }
    },
    {
      "cell_type": "code",
      "source": [
        "class MyClass:\n",
        "  x = 5\n",
        "\n",
        "p1=MyClass()\n",
        "print(p1.x)\n",
        "\n",
        "class Person:\n",
        " def __init__(self, name, age):\n",
        "   self.name = name\n",
        "   self.age = age\n",
        "\n",
        "class Person:\n",
        "  def __init__(self, fname):\n",
        "    self.firstname = fname.               ## We have used the Student class to\n",
        "                                          ## create an object named x.\n",
        "\n",
        "  def printname(self):\n",
        "    print(self.firstname)\n",
        "\n",
        "class Student(Person):\n",
        "  pass\n",
        "\n",
        "x = Student(\"Mike\")\n",
        "x.printname()\n",
        "\n",
        ""
      ],
      "metadata": {
        "id": "1UIot0FoWlc_"
      },
      "execution_count": null,
      "outputs": []
    },
    {
      "cell_type": "markdown",
      "source": [
        "\n",
        "\n",
        "---\n",
        "\n",
        "\n",
        "\n",
        "---\n",
        "\n",
        "What is the correct syntax to import a module named \"mymodule\"?\n",
        "\n",
        "\n",
        "`import` mymodule\n",
        "\n",
        "\n",
        "אם אתה רוצה להתייחס למודול באמצעות שם אחר, אתה יכול ליצור כינוי.\n",
        "\n",
        "מהו התחביר הנכון ליצירת כינוי למודול?\n",
        "\n",
        "\n",
        "`import` mymodule `ic mx`\n",
        "\n",
        "\n",
        "השימוש בפונקציה `dir()`\n",
        "\n",
        " יציג את רשימת האובייקטים הפנימיים של המודול\n",
        " כולל משתנים, פונקציות ועוד.\n"
      ],
      "metadata": {
        "id": "WPhVw8QCZ6IW"
      }
    },
    {
      "cell_type": "code",
      "source": [
        "import mymodule\n",
        "\n",
        "import mymodule as ic_mx\n",
        "\n",
        "import mymodule\n",
        "print(dir(mymodule))  # מדפיס את רשימת שמות המשתנים והפונקציות במודול\n",
        "\n",
        "from mymodule import person1 #. שורה זו מביאה רק את המילון person1\n",
        "\n",
        "#.                             מהמודול \"mymodule\"\n",
        "#                                 לכתובת השמות הנוכחית,\n",
        "#                                  ומאפשרת לך להשתמש\n",
        "#                                  בו ישירות מבלי לציין\n",
        " #                                      את שם המודול.\n",
        "\n",
        "\n",
        "\n"
      ],
      "metadata": {
        "id": "mr4wyyjlbi_g"
      },
      "execution_count": null,
      "outputs": []
    }
  ]
}